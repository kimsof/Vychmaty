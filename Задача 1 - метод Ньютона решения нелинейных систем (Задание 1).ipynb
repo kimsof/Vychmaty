{
 "cells": [
  {
   "cell_type": "code",
   "execution_count": 7,
   "metadata": {},
   "outputs": [
    {
     "data": {
      "text/plain": [
       "(-2.0, 2.0, -2.0, 2.0)"
      ]
     },
     "execution_count": 7,
     "metadata": {},
     "output_type": "execute_result"
    },
    {
     "data": {
      "image/png": "[encoded data removed]",
      "text/plain": [
       "<Figure size 288x288 with 1 Axes>"
      ]
     },
     "metadata": {
      "needs_background": "light"
     },
     "output_type": "display_data"
    }
   ],
   "source": [
    "import numpy as np\n",
    "import matplotlib.pyplot as plt\n",
    "\n",
    "#графическая локализация корней\n",
    "plt.figure(figsize=(4,4))\n",
    "x = np.linspace(-1,1,51) \n",
    "y1 = np.sqrt(1 - x*x)\n",
    "y2 = -y1\n",
    "y3 = np.tan(x)\n",
    "\n",
    "plt.plot(x,y1,'b')\n",
    "plt.plot(x,y2,'b',label='x^2 + y^2 = 1')\n",
    "plt.plot(x,y3,'g',label='y = tg(x)')\n",
    "plt.legend()\n",
    "plt.axis([-2,2,-2,2])"
   ]
  },
  {
   "cell_type": "markdown",
   "metadata": {},
   "source": [
    "2 корня на отрезках: [-1,0]х[-1,-0.5], [0,1]x[0.5,1]"
   ]
  },
  {
   "cell_type": "code",
   "execution_count": 8,
   "metadata": {},
   "outputs": [],
   "source": [
    "#x0, y0 - начальные приближения\n",
    "def search_root(x0, y0, epsilon):\n",
    "    jacobian = 2*x0 + 2*y0/(np.cos(x0)*np.cos(x0))\n",
    "    x = x0 - (x0*x0 + y0*y0 - 1)/jacobian\n",
    "    y = y0 - (y0 - np.tan(x0))/jacobian\n",
    "    while (np.fabs(x - x0) > epsilon) & (np.fabs(y - y0) > epsilon):\n",
    "        x0 = x\n",
    "        y0 = y\n",
    "        x = x - jacobian**(-1) * (x*x + y*y - 1 - 2*y*(y - np.tan(x)))\n",
    "        y = y - jacobian**(-1) * (x*x + y*y - 1)/(np.cos(x)*np.cos(x)) + 2*x*(y - np.tan(x))\n",
    "        jacobian = 2*x + 2*y/(np.cos(x)*np.cos(x))\n",
    "    return [x,y]"
   ]
  },
  {
   "cell_type": "code",
   "execution_count": 9,
   "metadata": {},
   "outputs": [
    {
     "name": "stderr",
     "output_type": "stream",
     "text": [
      "<ipython-input-8-91b657e11626>:9: RuntimeWarning: overflow encountered in double_scalars\n",
      "  x = x - jacobian**(-1) * (x*x + y*y - 1 - 2*y*(y - np.tan(x)))\n",
      "<ipython-input-8-91b657e11626>:9: RuntimeWarning: invalid value encountered in double_scalars\n",
      "  x = x - jacobian**(-1) * (x*x + y*y - 1 - 2*y*(y - np.tan(x)))\n",
      "<ipython-input-8-91b657e11626>:10: RuntimeWarning: overflow encountered in double_scalars\n",
      "  y = y - jacobian**(-1) * (x*x + y*y - 1)/(np.cos(x)*np.cos(x)) + 2*x*(y - np.tan(x))\n"
     ]
    },
    {
     "data": {
      "text/plain": [
       "[nan, nan]"
      ]
     },
     "execution_count": 9,
     "metadata": {},
     "output_type": "execute_result"
    }
   ],
   "source": [
    "search_root(-1,1,10**(-6))"
   ]
  },
  {
   "cell_type": "code",
   "execution_count": null,
   "metadata": {},
   "outputs": [],
   "source": []
  }
 ],
 "metadata": {
  "kernelspec": {
   "display_name": "Python 3",
   "language": "python",
   "name": "python3"
  },
  "language_info": {
   "codemirror_mode": {
    "name": "ipython",
    "version": 3
   },
   "file_extension": ".py",
   "mimetype": "text/x-python",
   "name": "python",
   "nbconvert_exporter": "python",
   "pygments_lexer": "ipython3",
   "version": "3.8.3"
  }
 },
 "nbformat": 4,
 "nbformat_minor": 4
}
