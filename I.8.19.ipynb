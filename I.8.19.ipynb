{
 "cells": [
  {
   "cell_type": "code",
   "execution_count": 58,
   "metadata": {},
   "outputs": [],
   "source": [
    "import numpy as np\n",
    "import scipy.misc\n",
    "import scipy.integrate as integrate\n",
    "import math \n",
    "from matplotlib import pylab as plt\n",
    "\n",
    "#ф-я выводит значение р. Маклорена степени n в т. х\n",
    "def maclaurin(x,f,n,l):\n",
    "    f_maclaurin = f(0)\n",
    "    for i in range(1,n+1):\n",
    "        f_maclaurin += scipy.misc.derivative(f,0,i)*(x**i)/math.factorial(i)\n",
    "    return f_maclaurin\n",
    "\n",
    "#ф-я выводит графики f и ряда f степени n на отрезке [a,b], их аргументы берутся с шагом step\n",
    "def function(f,a,b,l,step,series,n):\n",
    "    x = np.arange(a,b,step)\n",
    "    y = f(x)\n",
    "    y_series = series(x,f,n,l)\n",
    "    \n",
    "    plt.plot(x,y,'b', label='f')\n",
    "    plt.plot(x,y_series,'g',label='series')\n",
    "    plt.legend()  \n",
    "    #plt.axis([0,100,0,100])"
   ]
  },
  {
   "cell_type": "code",
   "execution_count": 59,
   "metadata": {
    "scrolled": true
   },
   "outputs": [
    {
     "data": {
      "image/png": "[encoded data removed]",
      "text/plain": [
       "<Figure size 432x288 with 1 Axes>"
      ]
     },
     "metadata": {
      "needs_background": "light"
     },
     "output_type": "display_data"
    }
   ],
   "source": [
    "function(np.exp,10,11,1,0.01,maclaurin,15)"
   ]
  },
  {
   "cell_type": "markdown",
   "metadata": {},
   "source": [
    "Видно, что на отрезке [0,1] функция приближается хорошо, а на [10,11]  - плохо => предлагается приближать р. Фурье"
   ]
  },
  {
   "cell_type": "code",
   "execution_count": 60,
   "metadata": {},
   "outputs": [],
   "source": [
    "def fourier_coefficient(f,l,n):\n",
    "    bk = []\n",
    "    f_i = lambda f,x,n,l: f(x)*sin(np.pi*n*x/l)  \n",
    "    for i in range(1,n+1):\n",
    "        f_i = lambda x: f(x)*np.sin(np.pi*i*x/l)  \n",
    "        bk.append(2*integrate.quad(f_i,0,l)[0]/l)  \n",
    "    return bk\n",
    "    \n",
    "def fourier(x,f,n,l):\n",
    "    f_fourier = 0\n",
    "    bk = fourier_coefficient(f,l,n)\n",
    "    for i in range(1,n+1):\n",
    "        f_fourier += bk[i-1]*np.sin(np.pi*i*x/l)\n",
    "    return f_fourier    "
   ]
  },
  {
   "cell_type": "code",
   "execution_count": 61,
   "metadata": {},
   "outputs": [
    {
     "data": {
      "image/png": "[encoded data removed]",
      "text/plain": [
       "<Figure size 432x288 with 1 Axes>"
      ]
     },
     "metadata": {
      "needs_background": "light"
     },
     "output_type": "display_data"
    }
   ],
   "source": [
    "function(np.exp,10,11,1,0.01,fourier,15)"
   ]
  },
  {
   "cell_type": "code",
   "execution_count": 49,
   "metadata": {},
   "outputs": [
    {
     "data": {
      "text/plain": [
       "[2874.6675930740034,\n",
       " -4688.4067021034425,\n",
       " 5378.825634031036,\n",
       " -5395.132389984186,\n",
       " 5115.115273424566]"
      ]
     },
     "execution_count": 49,
     "metadata": {},
     "output_type": "execute_result"
    }
   ],
   "source": [
    "fourier_coefficient(np.exp,11,5)"
   ]
  },
  {
   "cell_type": "code",
   "execution_count": 54,
   "metadata": {},
   "outputs": [
    {
     "data": {
      "text/plain": [
       "32000.25360197111"
      ]
     },
     "execution_count": 54,
     "metadata": {},
     "output_type": "execute_result"
    }
   ],
   "source": [
    "fourier(10,np.exp,10,11)"
   ]
  },
  {
   "cell_type": "code",
   "execution_count": 55,
   "metadata": {},
   "outputs": [
    {
     "data": {
      "text/plain": [
       "22026.465794806718"
      ]
     },
     "execution_count": 55,
     "metadata": {},
     "output_type": "execute_result"
    }
   ],
   "source": [
    "np.exp(10)"
   ]
  },
  {
   "cell_type": "code",
   "execution_count": 57,
   "metadata": {},
   "outputs": [
    {
     "data": {
      "text/plain": [
       "4955562.369375126"
      ]
     },
     "execution_count": 57,
     "metadata": {},
     "output_type": "execute_result"
    }
   ],
   "source": [
    "maclaurin(10,np.exp,10,1)"
   ]
  },
  {
   "cell_type": "code",
   "execution_count": null,
   "metadata": {},
   "outputs": [],
   "source": []
  }
 ],
 "metadata": {
  "kernelspec": {
   "display_name": "Python 3",
   "language": "python",
   "name": "python3"
  },
  "language_info": {
   "codemirror_mode": {
    "name": "ipython",
    "version": 3
   },
   "file_extension": ".py",
   "mimetype": "text/x-python",
   "name": "python",
   "nbconvert_exporter": "python",
   "pygments_lexer": "ipython3",
   "version": "3.8.3"
  }
 },
 "nbformat": 4,
 "nbformat_minor": 4
}
