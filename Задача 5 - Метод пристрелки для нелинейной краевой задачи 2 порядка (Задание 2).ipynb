{
 "cells": [
  {
   "cell_type": "markdown",
   "metadata": {},
   "source": [
    "$$   \\left\\{\\begin{matrix}(y'')^{2} +e^{y'} -\\frac{e}{lnx}y^{2} =\\frac{1}{x^{2}}\n",
    "\\\\ y(e)=e, y(e^{2})=2e^{2}\n",
    "\\\\ {y}'(e)=\\alpha \n",
    "\\end{matrix}\\right.     $$"
   ]
  },
  {
   "cell_type": "markdown",
   "metadata": {},
   "source": [
    "$$  Y = \\binom{y}{{y'}} \\Rightarrow  {Y}' =\\binom{{y}'}{{{y}''}}=F(x,Y) = \\binom{Y[1]}{\\sqrt{\\frac{1}{x^{2}}+ \\frac{e}{lnx}Y[0]^{2} - Y[0]e^{Y[1]}}}\n",
    " $$"
   ]
  },
  {
   "cell_type": "code",
   "execution_count": 149,
   "metadata": {},
   "outputs": [],
   "source": [
    "import numpy as np\n",
    "import matplotlib.pyplot as plt\n",
    "\n",
    "e = np.exp(1)\n",
    "def F(x,Y):\n",
    "    return np.array([Y[1], np.sqrt((1/x**2) + e*(Y[0]**2)/np.log(x) - np.exp(Y[1])*Y[0])])\n",
    "\n",
    "#ф-я использует 4-стадийный метод РК, n - число узлов\n",
    "def function(x_left, y_left, x_right, y_right, alpha, n):\n",
    "    x = np.linspace(x_left, x_right, n)\n",
    "    length = len(x)\n",
    "    h = x[1] - x[0]\n",
    "    Y = np.zeros((2, length))\n",
    "    Y[0][0] = y_left\n",
    "    Y[1][0] = alpha\n",
    "\n",
    "    k = np.zeros((4, len(Y)))\n",
    "    for n in range(1,length):\n",
    "        k[0] = F(x[n-1], Y.T[n-1])\n",
    "        k[1] = F(x[n-1] + h/2, Y.T[n-1] + h/2 * k[0])\n",
    "        k[2] = F(x[n-1] + h/2, Y.T[n-1] + h/2 * k[1])\n",
    "        k[3] = F(x[n-1] + h, Y.T[n-1] + h * k[2])     \n",
    "        Y.T[n] = Y.T[n-1] + h/6 * (k[0] + 2*k[1] + 2*k[2] + k[3])\n",
    "    return Y #Y[0][n]\n",
    "\n",
    "#def alpha(n,epsilon):\n",
    "#    for alpha in np.arange(1.8, 1.9, 0.01):\n",
    "#        if np.abs(function(e, e, e*e, 2*e*e, 1, 100)[n-1] - 2) < epsilon:\n",
    "#            return alpha       "
   ]
  },
  {
   "cell_type": "code",
   "execution_count": 150,
   "metadata": {
    "scrolled": true
   },
   "outputs": [
    {
     "name": "stderr",
     "output_type": "stream",
     "text": [
      "<ipython-input-149-43656377f607>:6: RuntimeWarning: invalid value encountered in sqrt\n",
      "  return np.array([Y[1], np.sqrt((1/x**2) + e*(Y[0]**2)/np.log(x) - np.exp(Y[1])*Y[0])])\n"
     ]
    },
    {
     "data": {
      "text/plain": [
       "[<matplotlib.lines.Line2D at 0x1dd96361af0>]"
      ]
     },
     "execution_count": 150,
     "metadata": {},
     "output_type": "execute_result"
    },
    {
     "data": {
      "image/png": "[encoded data removed]",
      "text/plain": [
       "<Figure size 432x288 with 1 Axes>"
      ]
     },
     "metadata": {
      "needs_background": "light"
     },
     "output_type": "display_data"
    }
   ],
   "source": [
    "y = function(e, e, e*e, 2*e*e, 1, 100)[0]\n",
    "x = np.linspace(e, e*e, 100)\n",
    "plt.plot(x,y)\n",
    "#plt.axis([0,3.5,0,4.2])"
   ]
  },
  {
   "cell_type": "code",
   "execution_count": 151,
   "metadata": {},
   "outputs": [
    {
     "name": "stderr",
     "output_type": "stream",
     "text": [
      "<ipython-input-149-43656377f607>:6: RuntimeWarning: invalid value encountered in sqrt\n",
      "  return np.array([Y[1], np.sqrt((1/x**2) + e*(Y[0]**2)/np.log(x) - np.exp(Y[1])*Y[0])])\n"
     ]
    },
    {
     "data": {
      "text/html": [
       "<div>\n",
       "<style scoped>\n",
       "    .dataframe tbody tr th:only-of-type {\n",
       "        vertical-align: middle;\n",
       "    }\n",
       "\n",
       "    .dataframe tbody tr th {\n",
       "        vertical-align: top;\n",
       "    }\n",
       "\n",
       "    .dataframe thead th {\n",
       "        text-align: right;\n",
       "    }\n",
       "</style>\n",
       "<table border=\"1\" class=\"dataframe\">\n",
       "  <thead>\n",
       "    <tr style=\"text-align: right;\">\n",
       "      <th></th>\n",
       "      <th>0</th>\n",
       "      <th>1</th>\n",
       "      <th>2</th>\n",
       "      <th>3</th>\n",
       "      <th>4</th>\n",
       "    </tr>\n",
       "  </thead>\n",
       "  <tbody>\n",
       "    <tr>\n",
       "      <th>x</th>\n",
       "      <td>0.500000</td>\n",
       "      <td>1.000000</td>\n",
       "      <td>1.500000</td>\n",
       "      <td>2.000000</td>\n",
       "      <td>2.500000</td>\n",
       "    </tr>\n",
       "    <tr>\n",
       "      <th>y</th>\n",
       "      <td>2.718282</td>\n",
       "      <td>2.718282</td>\n",
       "      <td>2.718282</td>\n",
       "      <td>2.718282</td>\n",
       "      <td>2.718282</td>\n",
       "    </tr>\n",
       "  </tbody>\n",
       "</table>\n",
       "</div>"
      ],
      "text/plain": [
       "          0         1         2         3         4\n",
       "x  0.500000  1.000000  1.500000  2.000000  2.500000\n",
       "y  2.718282  2.718282  2.718282  2.718282  2.718282"
      ]
     },
     "execution_count": 151,
     "metadata": {},
     "output_type": "execute_result"
    }
   ],
   "source": [
    "import pandas as ps\n",
    "x = x = np.linspace(e, e*e, 100)\n",
    "y = function(e, e, e*e, 2*e*e, 0, 100)[0]\n",
    "array = np.zeros((2,5))\n",
    "array[0] = np.linspace(0.5,2.5,5)\n",
    "array[1] = np.interp(array[0], x, y)\n",
    "table = ps.DataFrame(data=array, index=np.arange(0,2), columns=np.arange(0,5))\n",
    "table.index = ['x','y']\n",
    "table"
   ]
  },
  {
   "cell_type": "code",
   "execution_count": null,
   "metadata": {},
   "outputs": [],
   "source": []
  },
  {
   "cell_type": "code",
   "execution_count": null,
   "metadata": {},
   "outputs": [],
   "source": []
  },
  {
   "cell_type": "code",
   "execution_count": null,
   "metadata": {},
   "outputs": [],
   "source": []
  },
  {
   "cell_type": "code",
   "execution_count": null,
   "metadata": {},
   "outputs": [],
   "source": []
  },
  {
   "cell_type": "code",
   "execution_count": null,
   "metadata": {},
   "outputs": [],
   "source": [
    "import numpy as np\n",
    "import matplotlib.pyplot as plt\n",
    "\n",
    "e = np.exp(1)\n",
    "\n",
    "def F(x,Y):\n",
    "    return np.array([Y[1], np.sqrt(1/x**2 + e*(Y[0])**2/np.log(x) - np.exp(Y[1])*Y[0])])  \n",
    "\n",
    "#ф-я, используя метод Принса-Дорманда,  возвращает y, n - число узлов\n",
    "def function(x_left, y_left, x_right, y_right, alpha, n):\n",
    "    x = np.linspace(x_left, x_right, n)\n",
    "    length = len(x)\n",
    "    h = x[1] - x[0]\n",
    "    Y = np.zeros((2, length))\n",
    "    Y[0][0] = y_left\n",
    "    Y[1][0] = alpha\n",
    "\n",
    "    k = np.zeros((7, len(Y)))\n",
    "    for n in range(1,length):\n",
    "        k[0] = F(x[n-1], Y.T[n-1])\n",
    "        k[1] = F(x[n-1] + h/5, Y.T[n-1] + h/5 * k[0])\n",
    "        k[2] = F(x[n-1] + 3*h/10, Y.T[n-1] + h*3/40 * k[0] + h*9/40 * k[1])\n",
    "        k[3] = F(x[n-1] + 4*h/5, Y.T[n-1] + 44*h/55 * k[0] - 56*h/15 * k[1] + 32*h/9 * k[2])\n",
    "        k[4] = F(x[n-1] + 8*h/9, Y.T[n-1] + 19372*h/6561 * k[0] - 25360*h/2187 * k[1] + 64448*h/6561 * k[2] - 212*h/729 * k[3])\n",
    "        k[5] = F(x[n-1] + h, Y.T[n-1] + 9017*h/3168 * k[0] - 355*h/33 * k[1] + 46732*h/5247 * k[2] +49*h/176 * k[3] - 5103*h/18656 * k[4])\n",
    "        k[6] = F(x[n-1] + h, Y.T[n-1] + 35*h/384 * k[0] + 500*h/1113 * k[2] + 125*h/192 * k[3] - 2187*h/6784 * k[4] + 11*h/84 * k[5])\n",
    "        Y.T[n] = h*(35/384*k[0] + 500/1113*k[2] + 125/192*k[3] -2187/6784*k[4] + 11/84*k[5])\n",
    "    return Y"
   ]
  }
 ],
 "metadata": {
  "kernelspec": {
   "display_name": "Python 3",
   "language": "python",
   "name": "python3"
  },
  "language_info": {
   "codemirror_mode": {
    "name": "ipython",
    "version": 3
   },
   "file_extension": ".py",
   "mimetype": "text/x-python",
   "name": "python",
   "nbconvert_exporter": "python",
   "pygments_lexer": "ipython3",
   "version": "3.8.3"
  }
 },
 "nbformat": 4,
 "nbformat_minor": 4
}
