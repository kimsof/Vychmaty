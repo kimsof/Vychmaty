{
 "cells": [
  {
   "cell_type": "code",
   "execution_count": 5,
   "metadata": {},
   "outputs": [],
   "source": [
    "import numpy as np\n",
    "import pandas as ps\n",
    "from scipy import linalg\n",
    "\n",
    "x = np.zeros(10)\n",
    "for i in range(10):\n",
    "    x[i] = 1910 + 10*i\n",
    "y = [92228496, 106021537, 123202624, 132164569, 151325798, 179323175, 203211926, 226545805, 248709873, 281421906]"
   ]
  },
  {
   "cell_type": "code",
   "execution_count": 6,
   "metadata": {},
   "outputs": [],
   "source": [
    "def derivative(x,y,k):   #k - номер элемента сетки, в котором нужно посчитать производную\n",
    "    n = len(x)\n",
    "    array = np.zeros((n,n))  #по строкам - коэффициенты при каждой из производной в искомой точке, по столбцам - слалагаемые разложения в ряд тейлора в каждой точке\n",
    "    for i in range(0,n):\n",
    "        for j in range(0,n):\n",
    "            array[i][j] = (x[j]-x[k])**i/np.math.factorial(i) \n",
    "    b = np.zeros((n,1))\n",
    "    #из уравнения метода неопред коэф-тов => только при первой производной коэффициент не равен нулю:\n",
    "    b[1] = 1\n",
    "    koefficients = linalg.solve(array,b)\n",
    "    return np.dot(koefficients.reshape(1,n),y)"
   ]
  },
  {
   "cell_type": "code",
   "execution_count": 7,
   "metadata": {},
   "outputs": [
    {
     "data": {
      "text/plain": [
       "array([2605128.4320244])"
      ]
     },
     "execution_count": 7,
     "metadata": {},
     "output_type": "execute_result"
    }
   ],
   "source": [
    "derivative(x,y,4)"
   ]
  }
 ],
 "metadata": {
  "kernelspec": {
   "display_name": "Python 3",
   "language": "python",
   "name": "python3"
  },
  "language_info": {
   "codemirror_mode": {
    "name": "ipython",
    "version": 3
   },
   "file_extension": ".py",
   "mimetype": "text/x-python",
   "name": "python",
   "nbconvert_exporter": "python",
   "pygments_lexer": "ipython3",
   "version": "3.8.3"
  }
 },
 "nbformat": 4,
 "nbformat_minor": 4
}
