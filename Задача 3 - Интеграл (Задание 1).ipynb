{
 "cells": [
  {
   "cell_type": "code",
   "execution_count": 2,
   "metadata": {},
   "outputs": [],
   "source": [
    "import numpy as np\n",
    "\n",
    "def integrator_38(number_of_sections):\n",
    "    x = np.linspace(0,3,number_of_sections + 1)\n",
    "    f = np.sin(100*x)*np.exp(-x**2)*np.cos(2*x)\n",
    "    h = x[1]-x[0]\n",
    "    I_i = []\n",
    "    for i in range(0,number_of_sections - 3,3):\n",
    "        I_i.append((f[i] + 3*f[i+1] + 3*f[i+2] + f[i+3])*3*h/8)\n",
    "    I = sum(I_i)\n",
    "    return I"
   ]
  },
  {
   "cell_type": "code",
   "execution_count": 17,
   "metadata": {},
   "outputs": [],
   "source": [
    "def integrator_simpson(number_of_sections):\n",
    "    x = np.linspace(0,3,number_of_sections + 1)\n",
    "    f = np.sin(100*x)*np.exp(-x**2)*np.cos(2*x)\n",
    "    h = x[1]-x[0]\n",
    "    I_i = []\n",
    "    for i in range(0,number_of_sections - 2,2):\n",
    "        I_i.append((f[i] + 4*f[i+1] + f[i+2])*2*h/6)\n",
    "   # print(I_i)\n",
    "    I = sum(I_i)\n",
    "    return I"
   ]
  },
  {
   "cell_type": "code",
   "execution_count": 12,
   "metadata": {},
   "outputs": [
    {
     "data": {
      "text/plain": [
       "0.010140362935799242"
      ]
     },
     "execution_count": 12,
     "metadata": {},
     "output_type": "execute_result"
    }
   ],
   "source": [
    "integrator_38(314)"
   ]
  },
  {
   "cell_type": "code",
   "execution_count": 18,
   "metadata": {},
   "outputs": [
    {
     "data": {
      "text/plain": [
       "0.010010692667372745"
      ]
     },
     "execution_count": 18,
     "metadata": {},
     "output_type": "execute_result"
    }
   ],
   "source": [
    "integrator_simpson(600)"
   ]
  }
 ],
 "metadata": {
  "kernelspec": {
   "display_name": "Python 3",
   "language": "python",
   "name": "python3"
  },
  "language_info": {
   "codemirror_mode": {
    "name": "ipython",
    "version": 3
   },
   "file_extension": ".py",
   "mimetype": "text/x-python",
   "name": "python",
   "nbconvert_exporter": "python",
   "pygments_lexer": "ipython3",
   "version": "3.8.3"
  }
 },
 "nbformat": 4,
 "nbformat_minor": 4
}
