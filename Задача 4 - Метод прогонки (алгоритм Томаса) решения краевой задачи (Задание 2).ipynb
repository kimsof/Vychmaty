{
 "cells": [
  {
   "cell_type": "code",
   "execution_count": 2,
   "metadata": {},
   "outputs": [],
   "source": [
    "import numpy as np\n",
    "import pandas as ps\n",
    "from scipy import linalg\n",
    "\n",
    "#y\" + g(x)*y' + h(x)*y = f(x)\n",
    "def g(x):\n",
    "    return x*x - 3\n",
    "def h(x):\n",
    "    return (x*x - 3)*np.cos(x)\n",
    "def f(x):\n",
    "    return 2 - 6*x + 2*x**3 + (x**2 - 3)*np.exp(x)*np.sin(x)*(1 + np.cos(x)) + np.cos(x)*(np.exp(x) + (x**2 - 1) + x**4 - 3*x**2)\n",
    "\n",
    "\n",
    "#ф-я function принимает на вход граничные условия и число узлов равное n\n",
    "def function(x0,y0,xN,yN,n):\n",
    "    #решение ДУ\n",
    "    x = np.linspace(x0,xN,n) \n",
    "    tau = x[1]-x[0]\n",
    "    \n",
    "    #  y_n+1 * a_n + y_n * b_n + y_n-1 * c_n = d_n\n",
    "    a = 1 + g(x)*tau\n",
    "    b = -2 - g(x)*tau + h(x)*tau*tau\n",
    "    c = 1\n",
    "    F = tau**2*f(x) # = d_n\n",
    "    F[0] = y0\n",
    "    F[n-1] = yN\n",
    "\n",
    "    #Ax=F\n",
    "    A = np.zeros((n,n))\n",
    "    A[0][0] = 1\n",
    "    A[n-1][n-1] = 1\n",
    "    #i - номер строки\n",
    "    for i in range(1,n-1):\n",
    "        A[i][i-1] = a[i]\n",
    "        A[i][i] = b[i]\n",
    "        A[i][i+1] = c\n",
    "    y = linalg.solve(A,F)\n",
    "    \n",
    "    return [x,y]"
   ]
  },
  {
   "cell_type": "code",
   "execution_count": 9,
   "metadata": {},
   "outputs": [
    {
     "data": {
      "text/html": [
       "<div>\n",
       "<style scoped>\n",
       "    .dataframe tbody tr th:only-of-type {\n",
       "        vertical-align: middle;\n",
       "    }\n",
       "\n",
       "    .dataframe tbody tr th {\n",
       "        vertical-align: top;\n",
       "    }\n",
       "\n",
       "    .dataframe thead th {\n",
       "        text-align: right;\n",
       "    }\n",
       "</style>\n",
       "<table border=\"1\" class=\"dataframe\">\n",
       "  <thead>\n",
       "    <tr style=\"text-align: right;\">\n",
       "      <th></th>\n",
       "      <th>0</th>\n",
       "      <th>1</th>\n",
       "      <th>2</th>\n",
       "      <th>3</th>\n",
       "      <th>4</th>\n",
       "      <th>5</th>\n",
       "    </tr>\n",
       "  </thead>\n",
       "  <tbody>\n",
       "    <tr>\n",
       "      <th>x</th>\n",
       "      <td>0.500000</td>\n",
       "      <td>1.000000</td>\n",
       "      <td>1.500000</td>\n",
       "      <td>2.000000</td>\n",
       "      <td>2.500000</td>\n",
       "      <td>3.000000</td>\n",
       "    </tr>\n",
       "    <tr>\n",
       "      <th>y</th>\n",
       "      <td>3.253536</td>\n",
       "      <td>4.298516</td>\n",
       "      <td>4.022308</td>\n",
       "      <td>3.261493</td>\n",
       "      <td>3.490472</td>\n",
       "      <td>6.614975</td>\n",
       "    </tr>\n",
       "  </tbody>\n",
       "</table>\n",
       "</div>"
      ],
      "text/plain": [
       "          0         1         2         3         4         5\n",
       "x  0.500000  1.000000  1.500000  2.000000  2.500000  3.000000\n",
       "y  3.253536  4.298516  4.022308  3.261493  3.490472  6.614975"
      ]
     },
     "execution_count": 9,
     "metadata": {},
     "output_type": "execute_result"
    }
   ],
   "source": [
    "import pandas as ps\n",
    "array = np.zeros((2,6))\n",
    "array[0] = np.linspace(0.5,3,6)\n",
    "array[1] = np.interp(array[0], function(0,0,np.pi,np.pi**2,100)[0], function(0,0,np.pi,np.pi**2,100)[1])\n",
    "table = ps.DataFrame(data=array, index=np.arange(0,2), columns=np.arange(0,6))\n",
    "table.index = ['x','y']\n",
    "table"
   ]
  },
  {
   "cell_type": "code",
   "execution_count": 5,
   "metadata": {},
   "outputs": [
    {
     "data": {
      "text/plain": [
       "[<matplotlib.lines.Line2D at 0x1e3b88b6910>]"
      ]
     },
     "execution_count": 5,
     "metadata": {},
     "output_type": "execute_result"
    },
    {
     "data": {
      "image/png": "[encoded data removed]",
      "text/plain": [
       "<Figure size 432x288 with 1 Axes>"
      ]
     },
     "metadata": {
      "needs_background": "light"
     },
     "output_type": "display_data"
    }
   ],
   "source": [
    "import matplotlib.pyplot as plt\n",
    "plt.plot(function(0,0,np.pi,np.pi**2,100)[0],function(0,0,np.pi,np.pi**2,100)[1])"
   ]
  }
 ],
 "metadata": {
  "kernelspec": {
   "display_name": "Python 3",
   "language": "python",
   "name": "python3"
  },
  "language_info": {
   "codemirror_mode": {
    "name": "ipython",
    "version": 3
   },
   "file_extension": ".py",
   "mimetype": "text/x-python",
   "name": "python",
   "nbconvert_exporter": "python",
   "pygments_lexer": "ipython3",
   "version": "3.8.3"
  }
 },
 "nbformat": 4,
 "nbformat_minor": 4
}
