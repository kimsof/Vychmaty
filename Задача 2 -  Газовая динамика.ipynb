{
 "cells": [
  {
   "cell_type": "code",
   "execution_count": 3,
   "metadata": {},
   "outputs": [],
   "source": [
    "import numpy as np\n",
    "\n",
    "class Parameters(object):   # параметры задачи\n",
    "    pass\n",
    "p = Parameters() \n",
    "p.L = 10          # граница по х\n",
    "p.N = 101         # шаг по x\n",
    "p.h = p.L/(p.N - 1)\n",
    "p.T = 0.02          # граница по t\n",
    "p.tau = 10**(-7)\n",
    "p.CFL_max = 0.01\n",
    "p.u_l = 0\n",
    "p.r_l = 13\n",
    "p.p_l = 10\n",
    "p.u_r = 0\n",
    "p.r_r = 1.3\n",
    "p.p_r = 1\n",
    "\n",
    "def gas_dyn():\n",
    "    "
   ]
  },
  {
   "cell_type": "code",
   "execution_count": 11,
   "metadata": {},
   "outputs": [
    {
     "ename": "SyntaxError",
     "evalue": "unexpected EOF while parsing (<ipython-input-11-78763d9814f8>, line 9)",
     "output_type": "error",
     "traceback": [
      "\u001b[1;36m  File \u001b[1;32m\"<ipython-input-11-78763d9814f8>\"\u001b[1;36m, line \u001b[1;32m9\u001b[0m\n\u001b[1;33m    \u001b[0m\n\u001b[1;37m    ^\u001b[0m\n\u001b[1;31mSyntaxError\u001b[0m\u001b[1;31m:\u001b[0m unexpected EOF while parsing\n"
     ]
    }
   ],
   "source": [
    "x = np.linspace(-p.L, p.L, 2*p.N - 1)\n",
    "NX = len(x) - 1\n",
    "t = np.linspace(0, p.T, int(p.T/p.tau + 1)) \n",
    "NT = len(t) - 1\n",
    "r = np.zeros([len(t),len(x)])\n",
    "\n",
    "u = np.zeros([len(t),len(x)])\n",
    "e = np.zeros([len(t),len(x)])\n",
    "for n in range():\n",
    "    \n"
   ]
  },
  {
   "cell_type": "code",
   "execution_count": null,
   "metadata": {},
   "outputs": [],
   "source": []
  }
 ],
 "metadata": {
  "kernelspec": {
   "display_name": "Python 3",
   "language": "python",
   "name": "python3"
  },
  "language_info": {
   "codemirror_mode": {
    "name": "ipython",
    "version": 3
   },
   "file_extension": ".py",
   "mimetype": "text/x-python",
   "name": "python",
   "nbconvert_exporter": "python",
   "pygments_lexer": "ipython3",
   "version": "3.8.3"
  }
 },
 "nbformat": 4,
 "nbformat_minor": 4
}
