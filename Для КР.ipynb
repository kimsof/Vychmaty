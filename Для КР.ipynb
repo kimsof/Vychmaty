{
 "cells": [
  {
   "cell_type": "code",
   "execution_count": 15,
   "metadata": {},
   "outputs": [],
   "source": [
    "import numpy as np\n",
    "from numpy import linalg \n",
    "import sympy as s\n",
    "from sympy import *\n",
    "import matplotlib.pyplot as plt\n",
    "from sympy.solvers.solveset import linsolve"
   ]
  },
  {
   "cell_type": "code",
   "execution_count": 39,
   "metadata": {},
   "outputs": [
    {
     "data": {
      "text/plain": [
       "{A: -1.5*a/h, C: 2.0*a/h, D: -0.5*a/h}"
      ]
     },
     "execution_count": 39,
     "metadata": {},
     "output_type": "execute_result"
    }
   ],
   "source": [
    "# A - Un+1, U'_t, \n",
    "A, B, C, D, F, G = s.symbols('A, B, C, D, F, G')\n",
    "h = s.symbols('h')\n",
    "a = s.symbols('a')\n",
    "tau = s.symbols('tau')\n",
    "# k - число узлов\n",
    "k = 3\n",
    "array = np.empty((k, k), dtype=\"object\")\n",
    "#Unm\n",
    "array[0] = np.ones(k)\n",
    "#U'_t nm\n",
    "array[2] = [0, h**2/2, 2*h**2]\n",
    "#array[1][1] = -tau\n",
    "#U'_x nm\n",
    "array[1] = [0, h, 2*h]\n",
    "#U''_x nm\n",
    "#array[3] = [0, 0, h**2/2, 2*h**2]\n",
    "b = np.array([0, a, 0])\n",
    "ar = np.dot(array, np.array([A, C, D])) - b\n",
    "s.solve(ar, [A, C, D])"
   ]
  },
  {
   "cell_type": "code",
   "execution_count": 38,
   "metadata": {},
   "outputs": [
    {
     "data": {
      "text/plain": [
       "array([[1.0, 1.0, 1.0, 1.0],\n",
       "       [0.0, -tau, 0.0, 0.0],\n",
       "       [0, 0, h, 2*h],\n",
       "       [0, 0, h**2/2, 2*h**2]], dtype=object)"
      ]
     },
     "execution_count": 38,
     "metadata": {},
     "output_type": "execute_result"
    }
   ],
   "source": [
    "array"
   ]
  },
  {
   "cell_type": "code",
   "execution_count": 16,
   "metadata": {},
   "outputs": [
    {
     "data": {
      "text/plain": [
       "{u: 1, u - sqrt(e*g**2 - e*g): 1, u + sqrt(e*g**2 - e*g): 1}"
      ]
     },
     "execution_count": 16,
     "metadata": {},
     "output_type": "execute_result"
    }
   ],
   "source": [
    "# собственные числа\n",
    "la.eig([[1,-1],[-1,1]])"
   ]
  },
  {
   "cell_type": "code",
   "execution_count": 6,
   "metadata": {},
   "outputs": [],
   "source": [
    "def derivative(x,y,k):   #k - номер элемента сетки, в котором нужно посчитать производную\n",
    "    n = len(x)\n",
    "    array = np.zeros((n,n))  #по строкам - коэффициенты при каждой из производной в искомой точке, по столбцам - слалагаемые разложения в ряд тейлора в каждой точке\n",
    "    for i in range(0,n):\n",
    "        for j in range(0,n):\n",
    "            array[i][j] = (x[j]-x[k])**i/np.math.factorial(i) \n",
    "    b = np.zeros((n,1))\n",
    "    #из уравнения метода неопред коэф-тов => только при первой производной коэффициент не равен нулю:\n",
    "    b[1] = 1\n",
    "    koefficients = linalg.solve(array,b)\n",
    "    return np.dot(koefficients.reshape(1,n),y)"
   ]
  },
  {
   "cell_type": "code",
   "execution_count": 20,
   "metadata": {},
   "outputs": [
    {
     "data": {
      "text/plain": [
       "[(u,\n",
       "  1,\n",
       "  [Matrix([\n",
       "   [1/u],\n",
       "   [  1],\n",
       "   [  0]])]),\n",
       " (u - sqrt(e*g**2 - e*g),\n",
       "  1,\n",
       "  [Matrix([\n",
       "   [                                                        1/(e*g)],\n",
       "   [(-e*g**2 + e*g + u*sqrt(e*g**2 - e*g))/(e*g*sqrt(e*g**2 - e*g))],\n",
       "   [                                                              1]])]),\n",
       " (u + sqrt(e*g**2 - e*g),\n",
       "  1,\n",
       "  [Matrix([\n",
       "   [                                                       1/(e*g)],\n",
       "   [(e*g**2 - e*g + u*sqrt(e*g**2 - e*g))/(e*g*sqrt(e*g**2 - e*g))],\n",
       "   [                                                             1]])])]"
      ]
     },
     "execution_count": 20,
     "metadata": {},
     "output_type": "execute_result"
    }
   ],
   "source": [
    "# собственные числа\n",
    "u, e, g = s.symbols('u, e, g')\n",
    "\n",
    "Matrix([[0,1,0],[-u**2, 2*u, g-1],[-u*e*g, g*e, u]]).eigenvals()\n",
    "Matrix([[0,1,0],[-u**2, 2*u, g-1],[-u*e*g, g*e, u]]).eigenvects()\n"
   ]
  },
  {
   "cell_type": "code",
   "execution_count": null,
   "metadata": {},
   "outputs": [],
   "source": []
  }
 ],
 "metadata": {
  "kernelspec": {
   "display_name": "Python 3",
   "language": "python",
   "name": "python3"
  },
  "language_info": {
   "codemirror_mode": {
    "name": "ipython",
    "version": 3
   },
   "file_extension": ".py",
   "mimetype": "text/x-python",
   "name": "python",
   "nbconvert_exporter": "python",
   "pygments_lexer": "ipython3",
   "version": "3.8.3"
  }
 },
 "nbformat": 4,
 "nbformat_minor": 4
}
