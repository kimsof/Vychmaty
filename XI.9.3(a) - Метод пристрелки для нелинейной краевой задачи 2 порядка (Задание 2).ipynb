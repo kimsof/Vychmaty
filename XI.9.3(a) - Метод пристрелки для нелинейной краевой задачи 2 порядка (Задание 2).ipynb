{
 "cells": [
  {
   "cell_type": "markdown",
   "metadata": {},
   "source": [
    "$$  \\left\\{\\begin{matrix}{y}''=x\\sqrt{y}\n",
    "\\\\ y(0)=0, y(1)=2\n",
    "\\\\ {y}'(0)=\\alpha \n",
    "\\end{matrix}\\right.      $$"
   ]
  },
  {
   "cell_type": "markdown",
   "metadata": {},
   "source": [
    "$$ Y = \\binom{y}{{y'}} \\Rightarrow  {Y}' =\\binom{{y}'}{{{y}''}}=F(x,Y) = \\binom{Y[1]}{{x\\sqrt{Y[0]}}} $$"
   ]
  },
  {
   "cell_type": "code",
   "execution_count": 161,
   "metadata": {},
   "outputs": [],
   "source": [
    "import numpy as np\n",
    "import matplotlib.pyplot as plt\n",
    "\n",
    "def F(x, Y):\n",
    "    return np.array([Y[1], x*np.sqrt(Y[0])])\n",
    "\n",
    "#ф-я, используя 4-стадийный метод РК,  возвращает y, n - число узлов\n",
    "def function(x_left, y_left, x_right, y_right, alpha, n):\n",
    "\n",
    "    x = np.linspace(x_left, x_right, n)\n",
    "    length = len(x)\n",
    "    h = x[1] - x[0]\n",
    "    Y = np.zeros((2, length))\n",
    "    Y[0][0] = y_left\n",
    "    Y[1][0] = alpha\n",
    "\n",
    "    k = np.zeros((4, len(Y)))\n",
    "    for n in range(1,length):\n",
    "        k[0] = F(x[n-1], Y.T[n-1])\n",
    "        k[1] = F(x[n-1] + h/2, Y.T[n-1] + h/2 * k[0])\n",
    "        k[2] = F(x[n-1] + h/2, Y.T[n-1] + h/2 * k[1])\n",
    "        k[3] = F(x[n-1] + h, Y.T[n-1] + h * k[2])     \n",
    "        Y.T[n] = Y.T[n-1] + h/6 * (k[0] + 2*k[1] + 2*k[2] + k[3])\n",
    "    return Y[0] #Y[0][n]"
   ]
  },
  {
   "cell_type": "code",
   "execution_count": 157,
   "metadata": {
    "scrolled": true
   },
   "outputs": [
    {
     "data": {
      "text/html": [
       "<div>\n",
       "<style scoped>\n",
       "    .dataframe tbody tr th:only-of-type {\n",
       "        vertical-align: middle;\n",
       "    }\n",
       "\n",
       "    .dataframe tbody tr th {\n",
       "        vertical-align: top;\n",
       "    }\n",
       "\n",
       "    .dataframe thead th {\n",
       "        text-align: right;\n",
       "    }\n",
       "</style>\n",
       "<table border=\"1\" class=\"dataframe\">\n",
       "  <thead>\n",
       "    <tr style=\"text-align: right;\">\n",
       "      <th></th>\n",
       "      <th>0</th>\n",
       "      <th>1</th>\n",
       "    </tr>\n",
       "  </thead>\n",
       "  <tbody>\n",
       "    <tr>\n",
       "      <th>0</th>\n",
       "      <td>1.800000</td>\n",
       "      <td>1.900000</td>\n",
       "    </tr>\n",
       "    <tr>\n",
       "      <th>1</th>\n",
       "      <td>1.955242</td>\n",
       "      <td>2.059445</td>\n",
       "    </tr>\n",
       "  </tbody>\n",
       "</table>\n",
       "</div>"
      ],
      "text/plain": [
       "          0         1\n",
       "0  1.800000  1.900000\n",
       "1  1.955242  2.059445"
      ]
     },
     "execution_count": 157,
     "metadata": {},
     "output_type": "execute_result"
    }
   ],
   "source": [
    "#поиск подбором отрезка, которому принадлежит альфа\n",
    "import pandas as ps\n",
    "array = np.zeros((2,2))\n",
    "array[0] = [1.8, 1.9]\n",
    "array[1] = [function(0, 0, 1, 2, 1.8, 10), function(0, 0, 1, 2, 1.9, 10)]\n",
    " \n",
    "ps.DataFrame(data=array, index=np.arange(0,2), columns=np.arange(0,2))                "
   ]
  },
  {
   "cell_type": "code",
   "execution_count": 159,
   "metadata": {},
   "outputs": [],
   "source": [
    "def alpha(n,epsilon):\n",
    "    for alpha in np.arange(1.8, 1.9, 0.01):\n",
    "        if np.abs(function(0, 0, 1, 2, alpha, n)[n-1] - 2) < epsilon:\n",
    "            return alpha       "
   ]
  },
  {
   "cell_type": "code",
   "execution_count": 162,
   "metadata": {
    "scrolled": true
   },
   "outputs": [
    {
     "data": {
      "text/plain": [
       "[<matplotlib.lines.Line2D at 0x19585f58df0>]"
      ]
     },
     "execution_count": 162,
     "metadata": {},
     "output_type": "execute_result"
    },
    {
     "data": {
      "image/png": "[encoded data removed]",
      "text/plain": [
       "<Figure size 432x288 with 1 Axes>"
      ]
     },
     "metadata": {
      "needs_background": "light"
     },
     "output_type": "display_data"
    }
   ],
   "source": [
    "y = function(0, 0, 100, 2, alpha(10, 0.01), 10)\n",
    "x = np.linspace(0, 1, 10)\n",
    "plt.plot(x,y)"
   ]
  },
  {
   "cell_type": "code",
   "execution_count": null,
   "metadata": {},
   "outputs": [],
   "source": []
  }
 ],
 "metadata": {
  "kernelspec": {
   "display_name": "Python 3",
   "language": "python",
   "name": "python3"
  },
  "language_info": {
   "codemirror_mode": {
    "name": "ipython",
    "version": 3
   },
   "file_extension": ".py",
   "mimetype": "text/x-python",
   "name": "python",
   "nbconvert_exporter": "python",
   "pygments_lexer": "ipython3",
   "version": "3.8.3"
  }
 },
 "nbformat": 4,
 "nbformat_minor": 4
}
